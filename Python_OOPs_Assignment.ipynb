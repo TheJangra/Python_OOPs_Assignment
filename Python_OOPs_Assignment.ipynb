{
  "cells": [
    {
      "cell_type": "markdown",
      "source": [
        "#**Theoretical Questions & Answers**"
      ],
      "metadata": {
        "id": "PoypgWUp-CBw"
      },
      "id": "PoypgWUp-CBw"
    },
    {
      "cell_type": "markdown",
      "id": "b3d33fea",
      "metadata": {
        "id": "b3d33fea"
      },
      "source": [
        "### 1. What is Object-Oriented Programming (OOP)\n",
        "Object-Oriented Programming (OOP) is a programming paradigm based on the concept of objects which contain data and methods. It promotes code reuse, modularity, and abstraction."
      ]
    },
    {
      "cell_type": "markdown",
      "id": "7f0f17b9",
      "metadata": {
        "id": "7f0f17b9"
      },
      "source": [
        "### 2. What is a class in OOP\n",
        "A class in OOP is a blueprint for creating objects. It defines the structure and behavior of its objects through attributes and methods."
      ]
    },
    {
      "cell_type": "markdown",
      "id": "16a52a53",
      "metadata": {
        "id": "16a52a53"
      },
      "source": [
        "### 3. What is an object in OOP\n",
        "An object is an instance of a class. It represents a specific entity with defined attributes and behaviors"
      ]
    },
    {
      "cell_type": "markdown",
      "id": "1c06f452",
      "metadata": {
        "id": "1c06f452"
      },
      "source": [
        "### 4. What is the difference between abstraction and encapsulation\n",
        "Abstraction hides implementation details and shows only functionality, while encapsulation binds data and methods together and restricts access to some components."
      ]
    },
    {
      "cell_type": "markdown",
      "id": "6819b95c",
      "metadata": {
        "id": "6819b95c"
      },
      "source": [
        "### 5. What are dunder methods in Python\n",
        "Dunder methods (double underscore methods) are special methods in Python like __init__, __str__, and __repr__ that enable operator overloading and provide special behavior."
      ]
    },
    {
      "cell_type": "markdown",
      "id": "9f358c77",
      "metadata": {
        "id": "9f358c77"
      },
      "source": [
        "### 6. Explain the concept of inheritance in OOP\n",
        "Inheritance is a mechanism where one class (child) inherits attributes and methods from another class (parent)."
      ]
    },
    {
      "cell_type": "markdown",
      "id": "451d6168",
      "metadata": {
        "id": "451d6168"
      },
      "source": [
        "###7. What is polymorphism in OOP\n",
        "Polymorphism allows different classes to implement methods with the same name in different ways, enabling flexible and reusable code."
      ]
    },
    {
      "cell_type": "markdown",
      "id": "c1864d95",
      "metadata": {
        "id": "c1864d95"
      },
      "source": [
        "### 8. How is encapsulation achieved in Python\n",
        "Encapsulation is achieved in Python by using private attributes (prefixing with _ or __) and providing public methods for access and modification."
      ]
    },
    {
      "cell_type": "markdown",
      "id": "6998136b",
      "metadata": {
        "id": "6998136b"
      },
      "source": [
        "### 9. What is a constructor in Python\n",
        "A constructor in Python is the __init__ method. It initializes a newly created object."
      ]
    },
    {
      "cell_type": "markdown",
      "id": "d6cd5687",
      "metadata": {
        "id": "d6cd5687"
      },
      "source": [
        "### 10. What are class and static methods in Python\n",
        "@classmethod takes the class as the first parameter and is used to create factory methods, while @staticmethod does not take an implicit first argument."
      ]
    },
    {
      "cell_type": "markdown",
      "id": "b0996c72",
      "metadata": {
        "id": "b0996c72"
      },
      "source": [
        "### 11. What is method overloading in Python\n",
        "Python does not support method overloading in the traditional sense, but it can be mimicked using default arguments or variable-length arguments."
      ]
    },
    {
      "cell_type": "markdown",
      "id": "f4b336d9",
      "metadata": {
        "id": "f4b336d9"
      },
      "source": [
        "### 12. What is method overriding in OOP\n",
        "Method overriding allows a subclass to provide a specific implementation of a method defined in its superclass."
      ]
    },
    {
      "cell_type": "markdown",
      "id": "a70a17e0",
      "metadata": {
        "id": "a70a17e0"
      },
      "source": [
        "### 13. What is a property decorator in Python\n",
        "The property decorator allows you to define methods in a class that behave like attributes, enabling controlled access."
      ]
    },
    {
      "cell_type": "markdown",
      "id": "4f2cd435",
      "metadata": {
        "id": "4f2cd435"
      },
      "source": [
        "### 14. Why is polymorphism important in OOP\n",
        "Polymorphism enhances flexibility by allowing the same interface to be used for different underlying data types."
      ]
    },
    {
      "cell_type": "markdown",
      "id": "9d35f67c",
      "metadata": {
        "id": "9d35f67c"
      },
      "source": [
        "### 15. What is an abstract class in Python\n",
        "An abstract class cannot be instantiated and often contains abstract methods that must be implemented by subclasses."
      ]
    },
    {
      "cell_type": "markdown",
      "id": "9f59445c",
      "metadata": {
        "id": "9f59445c"
      },
      "source": [
        "### 16. What are the advantages of OOP\n",
        "Advantages include code reusability, scalability, modularity, and improved maintainability."
      ]
    },
    {
      "cell_type": "markdown",
      "id": "fef9f84e",
      "metadata": {
        "id": "fef9f84e"
      },
      "source": [
        "### 17. What is the difference between a class variable and an instance variable\n",
        "Class variables are shared across all instances, while instance variables are specific to each object."
      ]
    },
    {
      "cell_type": "markdown",
      "id": "437079e3",
      "metadata": {
        "id": "437079e3"
      },
      "source": [
        "### 18.What is multiple inheritance in Python\n",
        "Multiple inheritance allows a class to inherit from more than one parent class."
      ]
    },
    {
      "cell_type": "markdown",
      "id": "07477c10",
      "metadata": {
        "id": "07477c10"
      },
      "source": [
        "### 19. Explain the purpose of ‘__str__’ and ‘__repr__’ methods in Python\n",
        "__str__ returns a human-readable string, while __repr__ returns an unambiguous string for developers."
      ]
    },
    {
      "cell_type": "markdown",
      "id": "d0a04757",
      "metadata": {
        "id": "d0a04757"
      },
      "source": [
        "### 20. What is the significance of the ‘super()’ function in Python\n",
        "super() allows access to methods from a parent or sibling class, enabling method reuse and avoiding code duplication."
      ]
    },
    {
      "cell_type": "markdown",
      "id": "2fd59cdd",
      "metadata": {
        "id": "2fd59cdd"
      },
      "source": [
        "### 21. What is the significance of the __del__ method in Python\n",
        "__del__ is called when an object is about to be destroyed and is used for cleanup activities."
      ]
    },
    {
      "cell_type": "markdown",
      "id": "fdd56746",
      "metadata": {
        "id": "fdd56746"
      },
      "source": [
        "### 22. What is the difference between @staticmethod and @classmethod in Python\n",
        "@staticmethod doesn’t access class or instance data, while @classmethod takes the class as an argument and can modify class state."
      ]
    },
    {
      "cell_type": "markdown",
      "id": "fee7358a",
      "metadata": {
        "id": "fee7358a"
      },
      "source": [
        "### 23. How does polymorphism work in Python with inheritance\n",
        "Through method overriding, Python allows different classes to define the same method, supporting polymorphic behavior."
      ]
    },
    {
      "cell_type": "markdown",
      "id": "727645f0",
      "metadata": {
        "id": "727645f0"
      },
      "source": [
        "### 24. What is method chaining in Python OOP\n",
        "Method chaining allows multiple methods to be called on the same object in a single statement by returning self."
      ]
    },
    {
      "cell_type": "markdown",
      "id": "8caebb14",
      "metadata": {
        "id": "8caebb14"
      },
      "source": [
        "### 25. What is the purpose of the __call__ method in Python\n",
        "__call__ allows an instance of a class to be called as a function."
      ]
    },
    {
      "cell_type": "markdown",
      "source": [
        "#**Practical Questions & Answers**"
      ],
      "metadata": {
        "id": "Aj4KjWUB-UDM"
      },
      "id": "Aj4KjWUB-UDM"
    },
    {
      "cell_type": "markdown",
      "id": "0cf1e94b",
      "metadata": {
        "id": "0cf1e94b"
      },
      "source": [
        "### 1. Create a parent class Animal with a method speak() that prints a generic message. Create a child class Dog that overrides the speak() method to print \"Bark!\"."
      ]
    },
    {
      "cell_type": "code",
      "execution_count": 3,
      "id": "9ccf1cd9",
      "metadata": {
        "colab": {
          "base_uri": "https://localhost:8080/"
        },
        "id": "9ccf1cd9",
        "outputId": "6ab15aa1-f43c-4523-a60a-0da1066fe6fb"
      },
      "outputs": [
        {
          "output_type": "stream",
          "name": "stdout",
          "text": [
            "Bark!\n"
          ]
        }
      ],
      "source": [
        "class Animal:\n",
        "    def speak(self):\n",
        "        print(\"Animal makes a sound\")\n",
        "\n",
        "class Dog(Animal):\n",
        "    def speak(self):\n",
        "        print(\"Bark!\")\n",
        "\n",
        "dog = Dog()\n",
        "dog.speak()"
      ]
    },
    {
      "cell_type": "markdown",
      "id": "1958f13e",
      "metadata": {
        "id": "1958f13e"
      },
      "source": [
        "### 2. Write a program to create an abstract class Shape with a method area(). Derive classes Circle and Rectangle from it and implement the area() method in both."
      ]
    },
    {
      "cell_type": "code",
      "execution_count": 7,
      "id": "85bf0ef2",
      "metadata": {
        "colab": {
          "base_uri": "https://localhost:8080/"
        },
        "id": "85bf0ef2",
        "outputId": "422954eb-c7b1-47d6-e71f-622aea011524"
      },
      "outputs": [
        {
          "output_type": "stream",
          "name": "stdout",
          "text": [
            "Circle Area: 78.5\n",
            "Rectangle Area: 24\n"
          ]
        }
      ],
      "source": [
        "# Base class\n",
        "class Shape:\n",
        "    def area(self):\n",
        "        # This function should be overridden in child classes\n",
        "        pass\n",
        "\n",
        "# Derived class: Circle\n",
        "class Circle(Shape):\n",
        "    def __init__(self, radius):\n",
        "        self.radius = radius\n",
        "\n",
        "    def area(self):\n",
        "        return 3.14 * self.radius * self.radius\n",
        "\n",
        "# Derived class: Rectangle\n",
        "class Rectangle(Shape):\n",
        "    def __init__(self, width, height):\n",
        "        self.width = width\n",
        "        self.height = height\n",
        "\n",
        "    def area(self):\n",
        "        return self.width * self.height\n",
        "\n",
        "# Example usage\n",
        "circle = Circle(5)\n",
        "rectangle = Rectangle(4, 6)\n",
        "\n",
        "print(\"Circle Area:\", circle.area())\n",
        "print(\"Rectangle Area:\", rectangle.area())"
      ]
    },
    {
      "cell_type": "markdown",
      "id": "76743666",
      "metadata": {
        "id": "76743666"
      },
      "source": [
        "### 3. Implement a multi-level inheritance scenario where a class Vehicle has an attribute type. Derive a class Car and further derive a class ElectricCar that adds a battery attribute."
      ]
    },
    {
      "cell_type": "code",
      "execution_count": 8,
      "id": "28f16f3b",
      "metadata": {
        "colab": {
          "base_uri": "https://localhost:8080/"
        },
        "id": "28f16f3b",
        "outputId": "bd7b14fd-78c9-45bf-c39e-7e151e854d90"
      },
      "outputs": [
        {
          "output_type": "stream",
          "name": "stdout",
          "text": [
            "Electric Tesla 100kWh\n"
          ]
        }
      ],
      "source": [
        "class Vehicle:\n",
        "    def __init__(self, vehicle_type):\n",
        "        self.vehicle_type = vehicle_type\n",
        "\n",
        "class Car(Vehicle):\n",
        "    def __init__(self, vehicle_type, model):\n",
        "        super().__init__(vehicle_type)\n",
        "        self.model = model\n",
        "\n",
        "class ElectricCar(Car):\n",
        "    def __init__(self, vehicle_type, model, battery):\n",
        "        super().__init__(vehicle_type, model)\n",
        "        self.battery = battery\n",
        "\n",
        "ec = ElectricCar(\"Electric\", \"Tesla\", \"100kWh\")\n",
        "print(ec.vehicle_type, ec.model, ec.battery)"
      ]
    },
    {
      "cell_type": "markdown",
      "id": "3fc71bb4",
      "metadata": {
        "id": "3fc71bb4"
      },
      "source": [
        "### 4. Demonstrate polymorphism by creating a base class Bird with a method fly(). Create two derived classes Sparrow and Penguin that override the fly() method."
      ]
    },
    {
      "cell_type": "code",
      "execution_count": 9,
      "id": "d6e88ddf",
      "metadata": {
        "colab": {
          "base_uri": "https://localhost:8080/"
        },
        "id": "d6e88ddf",
        "outputId": "11160d23-7668-4cd9-cde9-e2b3d45bd4f8"
      },
      "outputs": [
        {
          "output_type": "stream",
          "name": "stdout",
          "text": [
            "Sparrow flies high\n",
            "Penguins can't fly\n"
          ]
        }
      ],
      "source": [
        "class Bird:\n",
        "    def fly(self):\n",
        "        print(\"Bird flies\")\n",
        "\n",
        "class Sparrow(Bird):\n",
        "    def fly(self):\n",
        "        print(\"Sparrow flies high\")\n",
        "\n",
        "class Penguin(Bird):\n",
        "    def fly(self):\n",
        "        print(\"Penguins can't fly\")\n",
        "\n",
        "birds = [Sparrow(), Penguin()]\n",
        "for bird in birds:\n",
        "    bird.fly()"
      ]
    },
    {
      "cell_type": "markdown",
      "id": "59f77ab8",
      "metadata": {
        "id": "59f77ab8"
      },
      "source": [
        "### 5.Write a program to demonstrate encapsulation by creating a class BankAccount with private attributes balance and methods to deposit, withdraw, and check balance."
      ]
    },
    {
      "cell_type": "code",
      "execution_count": 10,
      "id": "23230518",
      "metadata": {
        "colab": {
          "base_uri": "https://localhost:8080/"
        },
        "id": "23230518",
        "outputId": "8bae03f3-1e3d-452a-c230-a49f539657cb"
      },
      "outputs": [
        {
          "output_type": "stream",
          "name": "stdout",
          "text": [
            "Balance: 700\n"
          ]
        }
      ],
      "source": [
        "class BankAccount:\n",
        "    def __init__(self, balance=0):\n",
        "        self.__balance = balance\n",
        "\n",
        "    def deposit(self, amount):\n",
        "        self.__balance += amount\n",
        "\n",
        "    def withdraw(self, amount):\n",
        "        if amount <= self.__balance:\n",
        "            self.__balance -= amount\n",
        "        else:\n",
        "            print(\"Insufficient funds\")\n",
        "\n",
        "    def get_balance(self):\n",
        "        return self.__balance\n",
        "\n",
        "acc = BankAccount()\n",
        "acc.deposit(1000)\n",
        "acc.withdraw(300)\n",
        "print(\"Balance:\", acc.get_balance())"
      ]
    },
    {
      "cell_type": "markdown",
      "id": "7d795262",
      "metadata": {
        "id": "7d795262"
      },
      "source": [
        "### 6. Demonstrate runtime polymorphism using a method play() in a base class Instrument. Derive classes Guitar and Piano that implement their own version of play()."
      ]
    },
    {
      "cell_type": "code",
      "execution_count": 11,
      "id": "02a6b056",
      "metadata": {
        "colab": {
          "base_uri": "https://localhost:8080/"
        },
        "id": "02a6b056",
        "outputId": "d826bd4a-059f-4023-b0af-209bc412f51b"
      },
      "outputs": [
        {
          "output_type": "stream",
          "name": "stdout",
          "text": [
            "Strumming the guitar\n",
            "Playing the piano\n"
          ]
        }
      ],
      "source": [
        "class Instrument:\n",
        "    def play(self):\n",
        "        print(\"Instrument is playing\")\n",
        "\n",
        "class Guitar(Instrument):\n",
        "    def play(self):\n",
        "        print(\"Strumming the guitar\")\n",
        "\n",
        "class Piano(Instrument):\n",
        "    def play(self):\n",
        "        print(\"Playing the piano\")\n",
        "\n",
        "instruments = [Guitar(), Piano()]\n",
        "for inst in instruments:\n",
        "    inst.play()"
      ]
    },
    {
      "cell_type": "markdown",
      "id": "626c8a66",
      "metadata": {
        "id": "626c8a66"
      },
      "source": [
        "### 7. Create a class MathOperations with a class method add_numbers() to add two numbers and a static method subtract_numbers() to subtract two numbers."
      ]
    },
    {
      "cell_type": "code",
      "execution_count": 12,
      "id": "04180f55",
      "metadata": {
        "colab": {
          "base_uri": "https://localhost:8080/"
        },
        "id": "04180f55",
        "outputId": "5410d455-36cc-46ab-9320-764bd1d25c55"
      },
      "outputs": [
        {
          "output_type": "stream",
          "name": "stdout",
          "text": [
            "15\n",
            "5\n"
          ]
        }
      ],
      "source": [
        "class MathOperations:\n",
        "    @classmethod\n",
        "    def add_numbers(cls, a, b):\n",
        "        return a + b\n",
        "\n",
        "    @staticmethod\n",
        "    def subtract_numbers(a, b):\n",
        "        return a - b\n",
        "\n",
        "print(MathOperations.add_numbers(10, 5))\n",
        "print(MathOperations.subtract_numbers(10, 5))"
      ]
    },
    {
      "cell_type": "markdown",
      "id": "a9c67d59",
      "metadata": {
        "id": "a9c67d59"
      },
      "source": [
        "### 8. Implement a class Person with a class method to count the total number of persons created."
      ]
    },
    {
      "cell_type": "code",
      "execution_count": 21,
      "id": "74add2ab",
      "metadata": {
        "colab": {
          "base_uri": "https://localhost:8080/"
        },
        "id": "74add2ab",
        "outputId": "46ec05c9-94d5-4cdd-a0fa-6979b7a0b5e5"
      },
      "outputs": [
        {
          "output_type": "stream",
          "name": "stdout",
          "text": [
            "Total persons: 2\n"
          ]
        }
      ],
      "source": [
        "class Person:\n",
        "    count = 0\n",
        "\n",
        "    def __init__(self, name):\n",
        "        self.name = name\n",
        "        Person.count += 1\n",
        "\n",
        "    @classmethod\n",
        "    def get_person_count(cls):\n",
        "        return cls.count\n",
        "\n",
        "p1 = Person(\"Sandeep\")\n",
        "p2 = Person(\"Tushar\")\n",
        "print(\"Total persons:\", Person.get_person_count())"
      ]
    },
    {
      "cell_type": "markdown",
      "id": "8d658225",
      "metadata": {
        "id": "8d658225"
      },
      "source": [
        "### 9.Write a class Fraction with attributes numerator and denominator. Override the str method to display the fraction as \"numerator/denominator\"."
      ]
    },
    {
      "cell_type": "code",
      "execution_count": 14,
      "id": "1bc332a1",
      "metadata": {
        "colab": {
          "base_uri": "https://localhost:8080/"
        },
        "id": "1bc332a1",
        "outputId": "bb8c0ea2-8d3e-4399-b0b8-a5c31ad61c74"
      },
      "outputs": [
        {
          "output_type": "stream",
          "name": "stdout",
          "text": [
            "3/4\n"
          ]
        }
      ],
      "source": [
        "class Fraction:\n",
        "    def __init__(self, numerator, denominator):\n",
        "        self.numerator = numerator\n",
        "        self.denominator = denominator\n",
        "\n",
        "    def __str__(self):\n",
        "        return f\"{self.numerator}/{self.denominator}\"\n",
        "\n",
        "f = Fraction(3, 4)\n",
        "print(f)"
      ]
    },
    {
      "cell_type": "markdown",
      "id": "cd3bcdb9",
      "metadata": {
        "id": "cd3bcdb9"
      },
      "source": [
        "### 10. Demonstrate operator overloading by creating a class Vector and overriding the add method to add two vectors."
      ]
    },
    {
      "cell_type": "code",
      "execution_count": 15,
      "id": "e10dd609",
      "metadata": {
        "colab": {
          "base_uri": "https://localhost:8080/"
        },
        "id": "e10dd609",
        "outputId": "dc56726b-2276-4629-ffa0-494d2c20e22e"
      },
      "outputs": [
        {
          "output_type": "stream",
          "name": "stdout",
          "text": [
            "Vector(4, 6)\n"
          ]
        }
      ],
      "source": [
        "class Vector:\n",
        "    def __init__(self, x, y):\n",
        "        self.x = x\n",
        "        self.y = y\n",
        "\n",
        "    def __add__(self, other):\n",
        "        return Vector(self.x + other.x, self.y + other.y)\n",
        "\n",
        "    def __str__(self):\n",
        "        return f\"Vector({self.x}, {self.y})\"\n",
        "\n",
        "v1 = Vector(1, 2)\n",
        "v2 = Vector(3, 4)\n",
        "print(v1 + v2)"
      ]
    },
    {
      "cell_type": "markdown",
      "id": "1136b3dd",
      "metadata": {
        "id": "1136b3dd"
      },
      "source": [
        "### 11. Create a class Person with attributes name and age. Add a method greet() that prints \"Hello, my name is {name} and I am {age} years old.\""
      ]
    },
    {
      "cell_type": "code",
      "execution_count": 17,
      "id": "135a3368",
      "metadata": {
        "colab": {
          "base_uri": "https://localhost:8080/"
        },
        "id": "135a3368",
        "outputId": "8d23eb4e-6f77-489f-d909-3b0cb056a3d8"
      },
      "outputs": [
        {
          "output_type": "stream",
          "name": "stdout",
          "text": [
            "Hello, my name is Sandeep and I am 24 years old.\n"
          ]
        }
      ],
      "source": [
        "class Person:\n",
        "    def __init__(self, name, age):\n",
        "        self.name = name\n",
        "        self.age = age\n",
        "\n",
        "    def greet(self):\n",
        "        print(f\"Hello, my name is {self.name} and I am {self.age} years old.\")\n",
        "\n",
        "p = Person(\"Sandeep\", 24)\n",
        "p.greet()"
      ]
    },
    {
      "cell_type": "markdown",
      "id": "3997210e",
      "metadata": {
        "id": "3997210e"
      },
      "source": [
        "### 12. Implement a class Student with attributes name and grades. Create a method average_grade() to compute the average of the grades."
      ]
    },
    {
      "cell_type": "code",
      "execution_count": 19,
      "id": "76b53f19",
      "metadata": {
        "colab": {
          "base_uri": "https://localhost:8080/"
        },
        "id": "76b53f19",
        "outputId": "2380ed8f-faa2-41d7-d445-386592890792"
      },
      "outputs": [
        {
          "output_type": "stream",
          "name": "stdout",
          "text": [
            "Average grade: 85.0\n"
          ]
        }
      ],
      "source": [
        "class Student:\n",
        "    def __init__(self, name, grades):\n",
        "        self.name = name\n",
        "        self.grades = grades  # list of grades\n",
        "\n",
        "    def average_grade(self):\n",
        "        return sum(self.grades) / len(self.grades)\n",
        "\n",
        "s = Student(\"Sandeep\", [80, 90, 85])\n",
        "print(\"Average grade:\", s.average_grade())"
      ]
    },
    {
      "cell_type": "markdown",
      "id": "790bd81d",
      "metadata": {
        "id": "790bd81d"
      },
      "source": [
        "### 13. Create a class Rectangle with methods set_dimensions() to set the dimensions and area() to calculate the area."
      ]
    },
    {
      "cell_type": "code",
      "execution_count": 20,
      "id": "77871915",
      "metadata": {
        "colab": {
          "base_uri": "https://localhost:8080/"
        },
        "id": "77871915",
        "outputId": "3b219abd-431a-46c0-f07c-1fcf12342983"
      },
      "outputs": [
        {
          "output_type": "stream",
          "name": "stdout",
          "text": [
            "Area of rectangle: 15\n"
          ]
        }
      ],
      "source": [
        "class Rectangle:\n",
        "    def __init__(self):\n",
        "        self.length = 0\n",
        "        self.width = 0\n",
        "\n",
        "    def set_dimensions(self, length, width):\n",
        "        self.length = length\n",
        "        self.width = width\n",
        "\n",
        "    def area(self):\n",
        "        return self.length * self.width\n",
        "\n",
        "r = Rectangle()\n",
        "r.set_dimensions(5, 3)\n",
        "print(\"Area of rectangle:\", r.area())"
      ]
    },
    {
      "cell_type": "markdown",
      "id": "390aec21",
      "metadata": {
        "id": "390aec21"
      },
      "source": [
        "### 14. Create a class Employee with a method calculate_salary() that computes the salary based on hours worked and hourly rate. Create a derived class Manager that adds a bonus to the salary."
      ]
    },
    {
      "cell_type": "code",
      "execution_count": 22,
      "id": "e9852e3e",
      "metadata": {
        "colab": {
          "base_uri": "https://localhost:8080/"
        },
        "id": "e9852e3e",
        "outputId": "0eb3b3d8-9b31-4b60-b060-95f0872547e0"
      },
      "outputs": [
        {
          "output_type": "stream",
          "name": "stdout",
          "text": [
            "Employee salary: 800\n",
            "Manager salary: 1700\n"
          ]
        }
      ],
      "source": [
        "class Employee:\n",
        "    def __init__(self, hours_worked, hourly_rate):\n",
        "        self.hours_worked = hours_worked\n",
        "        self.hourly_rate = hourly_rate\n",
        "\n",
        "    def calculate_salary(self):\n",
        "        return self.hours_worked * self.hourly_rate\n",
        "\n",
        "class Manager(Employee):\n",
        "    def __init__(self, hours_worked, hourly_rate, bonus):\n",
        "        super().__init__(hours_worked, hourly_rate)\n",
        "        self.bonus = bonus\n",
        "\n",
        "    def calculate_salary(self):\n",
        "        return super().calculate_salary() + self.bonus\n",
        "\n",
        "e = Employee(40, 20)\n",
        "m = Manager(40, 30, 500)\n",
        "print(\"Employee salary:\", e.calculate_salary())\n",
        "print(\"Manager salary:\", m.calculate_salary())"
      ]
    },
    {
      "cell_type": "markdown",
      "id": "6726b33c",
      "metadata": {
        "id": "6726b33c"
      },
      "source": [
        "### 15. Create a class Product with attributes name, price, and quantity. Implement a method total_price() that calculates the total price of the product."
      ]
    },
    {
      "cell_type": "code",
      "execution_count": 24,
      "id": "6f9078fb",
      "metadata": {
        "colab": {
          "base_uri": "https://localhost:8080/"
        },
        "id": "6f9078fb",
        "outputId": "6e18bb8e-132f-4314-ac83-07996f7312c0"
      },
      "outputs": [
        {
          "output_type": "stream",
          "name": "stdout",
          "text": [
            "Total price: 300000\n"
          ]
        }
      ],
      "source": [
        "class Product:\n",
        "    def __init__(self, name, price, quantity):\n",
        "        self.name = name\n",
        "        self.price = price\n",
        "        self.quantity = quantity\n",
        "\n",
        "    def total_price(self):\n",
        "        return self.price * self.quantity\n",
        "\n",
        "p = Product(\"Laptop\", 100000, 3)\n",
        "print(\"Total price:\", p.total_price())"
      ]
    },
    {
      "cell_type": "markdown",
      "id": "b7efb5f3",
      "metadata": {
        "id": "b7efb5f3"
      },
      "source": [
        "### 16. Create a class Animal with an abstract method sound(). Create two derived classes Cow and Sheep that implement the sound() method."
      ]
    },
    {
      "cell_type": "code",
      "execution_count": 25,
      "id": "2a0c0ee2",
      "metadata": {
        "colab": {
          "base_uri": "https://localhost:8080/"
        },
        "id": "2a0c0ee2",
        "outputId": "4a6d522d-36eb-41e8-b4ff-eb1a60015acf"
      },
      "outputs": [
        {
          "output_type": "stream",
          "name": "stdout",
          "text": [
            "Moo\n",
            "Baa\n"
          ]
        }
      ],
      "source": [
        "from abc import ABC, abstractmethod\n",
        "\n",
        "class Animal(ABC):\n",
        "    @abstractmethod\n",
        "    def sound(self):\n",
        "        pass\n",
        "\n",
        "class Cow(Animal):\n",
        "    def sound(self):\n",
        "        print(\"Moo\")\n",
        "\n",
        "class Sheep(Animal):\n",
        "    def sound(self):\n",
        "        print(\"Baa\")\n",
        "\n",
        "c = Cow()\n",
        "s = Sheep()\n",
        "c.sound()\n",
        "s.sound()"
      ]
    },
    {
      "cell_type": "markdown",
      "id": "bc817953",
      "metadata": {
        "id": "bc817953"
      },
      "source": [
        "### 17.Create a class Book with attributes title, author, and year_published. Add a method get_book_info() that returns a formatted string with the book's details."
      ]
    },
    {
      "cell_type": "code",
      "execution_count": 26,
      "id": "21abb1f4",
      "metadata": {
        "colab": {
          "base_uri": "https://localhost:8080/"
        },
        "id": "21abb1f4",
        "outputId": "8532711b-271f-4aa1-cee7-8594729bbcec"
      },
      "outputs": [
        {
          "output_type": "stream",
          "name": "stdout",
          "text": [
            "'1984' by George Orwell (1949)\n"
          ]
        }
      ],
      "source": [
        "class Book:\n",
        "    def __init__(self, title, author, year_published):\n",
        "        self.title = title\n",
        "        self.author = author\n",
        "        self.year_published = year_published\n",
        "\n",
        "    def get_book_info(self):\n",
        "        return f\"'{self.title}' by {self.author} ({self.year_published})\"\n",
        "\n",
        "b = Book(\"1984\", \"George Orwell\", 1949)\n",
        "print(b.get_book_info())"
      ]
    },
    {
      "cell_type": "markdown",
      "id": "5a728274",
      "metadata": {
        "id": "5a728274"
      },
      "source": [
        "### 18. Create a class House with attributes address and price. Create a derived class Mansion that adds an attribute number_of_rooms."
      ]
    },
    {
      "cell_type": "code",
      "execution_count": 27,
      "id": "a039e49b",
      "metadata": {
        "colab": {
          "base_uri": "https://localhost:8080/"
        },
        "id": "a039e49b",
        "outputId": "0947b641-ed87-4b84-da0b-3538dce61f99"
      },
      "outputs": [
        {
          "output_type": "stream",
          "name": "stdout",
          "text": [
            "123 Elite St 5000000 15\n"
          ]
        }
      ],
      "source": [
        "class House:\n",
        "    def __init__(self, address, price):\n",
        "        self.address = address\n",
        "        self.price = price\n",
        "\n",
        "class Mansion(House):\n",
        "    def __init__(self, address, price, number_of_rooms):\n",
        "        super().__init__(address, price)\n",
        "        self.number_of_rooms = number_of_rooms\n",
        "\n",
        "m = Mansion(\"123 Elite St\", 5000000, 15)\n",
        "print(m.address, m.price, m.number_of_rooms)"
      ]
    }
  ],
  "metadata": {
    "colab": {
      "provenance": []
    },
    "language_info": {
      "name": "python"
    },
    "kernelspec": {
      "name": "python3",
      "display_name": "Python 3"
    }
  },
  "nbformat": 4,
  "nbformat_minor": 5
}